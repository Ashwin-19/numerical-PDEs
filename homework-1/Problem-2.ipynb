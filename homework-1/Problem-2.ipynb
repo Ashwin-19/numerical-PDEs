{
 "cells": [
  {
   "cell_type": "markdown",
   "metadata": {},
   "source": [
    "## $\\text{Homework - I}$"
   ]
  },
  {
   "cell_type": "markdown",
   "metadata": {},
   "source": [
    "$\\text{Problem 2: Convergence of Euler’s method}$"
   ]
  },
  {
   "cell_type": "markdown",
   "metadata": {},
   "source": [
    "$\\text{(a) } \\frac{dy}{dt} = 1 - t + y, y(t_{0}) = y_{0}$\n",
    "<br/>\n",
    "$\\text{I model the equation as a non-linear first order differential equation of the form:}$\n",
    "<br/>\n",
    "$y' + p(t)y = r(t)$\n",
    "<br/>\n",
    "$y' + (-1)y = (1-t) \\hspace{10mm} \\text{(I)}$\n",
    "<br/>\n",
    "$\\text{Comparing, } p(t) = -1 \\text{ & } r(t) = 1-t $\n",
    "<br/>\n",
    "$\\text{Using the method of exact integral, }$\n",
    "<br/>\n",
    "$u(t) = e^{\\int p(t) dt} = e^{\\int -1 dt}$\n",
    "<br/>\n",
    "$\\text{Multiplying both sides in (I) by u(t), we get}$\n",
    "<br/>\n",
    "$e^{\\int -1 dt}(y' + (-1)y) = e^{\\int -1 dt}(1-t)$\n",
    "<br/>\n",
    "$\\implies e^{\\int -1 dt}y' + e^{\\int -1 dt}(-1)y = e^{\\int -1 dt}(1-t)$\n",
    "<br/>\n",
    "$\\implies (e^{\\int -1 dt}y)' = e^{\\int -1 dt}(1-t)$\n",
    "<br/>\n",
    "$\\implies (e^{-t}y)' = e^{-t}(1-t)$\n",
    "<br/>\n",
    "$\\implies \\frac{d(e^{-t}y)}{dt} = e^{-t}(1-t)$\n",
    "<br/>\n",
    "$\\implies d(e^{-t}y) = e^{-t}(1-t)dt$\n",
    "<br/>\n",
    "$\\text{Integrating both sides,}$\n",
    "<br/>\n",
    "$\\int_{t_{0},y_{0}}^{t,y} d(e^{-t}y) = \\int_{t_{0}}^{t} e^{-t}(1-t)dt$\n",
    "<br/>\n",
    "$\\text{Using integration by parts,}$\n",
    "<br/>\n",
    "$[e^{-t}y]_{t_{0},y_{0}}^{t,y}  = [(1-t)\\int e^{-t} dt - \\int \\frac{d(1-t)}{dt} (\\int e^{-t} dt) dt]_{t_{0}}^{t}$\n",
    "<br/>\n",
    "$\\implies (e^{-t}y - e^{-t_{0}}y_{0}) = [(1-t)(-e^{-t}) - \\int e^{-t} dt]_{t_{0}}^{t}$\n",
    "<br/>\n",
    "$\\implies (e^{-t}y - e^{-t_{0}}y_{0}) = [(1-t)(-e^{-t}) - (-e^{-t})]_{t_{0}}^{t}$\n",
    "<br/>\n",
    "$\\implies (e^{-t}y - e^{-t_{0}}y_{0}) = [te^{-t}]_{t_{0}}^{t}$\n",
    "<br/>\n",
    "$\\implies (e^{-t}y - e^{-t_{0}}y_{0}) = te^{-t} - t_{0}e^{-t_{0}}$\n",
    "<br/>\n",
    "$\\implies e^{-t}y = e^{-t_{0}}y_{0} + te^{-t} - t_{0}e^{-t_{0}}$\n",
    "<br/>\n",
    "$\\implies y = e^{t-t_{0}}y_{0} + t - t_{0}e^{t-t_{0}}$\n",
    "<br/>\n",
    "$\\implies y = e^{t-t_{0}}(y_{0}-t_{0}) + t$\n",
    "<br/>\n",
    "$\\text{Which is the exact solution to the given ODE.}$"
   ]
  },
  {
   "cell_type": "markdown",
   "metadata": {},
   "source": [
    "-------------------------------------------------------------------------------------------"
   ]
  },
  {
   "cell_type": "markdown",
   "metadata": {},
   "source": [
    "$\\text{(b) }y_{n} = (1+h)^{n}(y_{0} - t_{0}) + t_{n}, n \\in \\mathbb{N}$\n",
    "<br/>\n",
    "$\\text{We use induction on n (the time step) to prove the above result}$\n",
    "<br/>\n",
    "$\\text{From forward Euler method, we know that }$\n",
    "<br/>\n",
    "$y_{n} = y_{n-1} + (t_{n} - t_{n-1})f(t_{n-1},\\phi(t_{n-1}))$\n",
    "<br/>\n",
    "$\\text{Base Case: }P(k = 1)$\n",
    "<br/>\n",
    "$\\implies y_{1} = y_{0} + (t_{1} - t_{0})f(t_{0},\\phi(0))$\n",
    "<br/>\n",
    "$\\implies y_{1} = y_{0} + (t_{1} - t_{0})f(t_{0},y_{0})\\hspace{10mm}\\because \\phi(0) = y_{0}$\n",
    "<br/>\n",
    "$\\implies y_{1} = y_{0} + (t_{1} - t_{0})(1 - t_{0} + y_{0})$\n",
    "<br/>\n",
    "$\\implies y_{1} = y_{0} + (t_{1} - t_{0}) + (t_{1} - t_{0})(y_{0}-t_{0})$\n",
    "<br/>\n",
    "$\\text{Rewriting }t_{1} - t_{0} = h\\hspace{10mm}\\because t_{1} = t_{0} + h$\n",
    "<br/>\n",
    "$\\implies y_{1} = (y_{0}-t_{0}) + h(y_{0}-t_{0}) + t_{1} $\n",
    "<br/>\n",
    "$\\implies y_{1} = (1 + h)(y_{0}-t_{0}) + t_{1} \\leftrightarrow P(1)$\n",
    "<br/>\n",
    "$\\text{Induction Hypothesis: Suppose } P(k) \\text{ holds true }\\forall k \\in S = \\{1,2,3,...,k\\}$\n",
    "<br/>\n",
    "$\\text{That is, we have }y_{k} = (1+h)^{k}(y_{0} - t_{0}) + t_{k}\\hspace{10mm}\\text{-(I)}$\n",
    "$\\implies y_{k} - t_{k} = (1+h)^{k}(y_{0} - t_{0})\\hspace{10mm}\\text{-(II)}$\n",
    "<br/>\n",
    "$\\text{Induction Step: Using forward Euler method for } P(k+1)$\n",
    "<br/>\n",
    "$y_{k+1} = y_{k} + (t_{k+1} - t_{k})f(t_{k},\\phi(t_{k}))$\n",
    "<br/>\n",
    "$\\implies y_{k+1} = y_{k} + (t_{k+1} - t_{k})f(t_{k},\\phi(t_{k}))$\n",
    "<br/>\n",
    "$\\text{Plugging in the computed value of }\\phi(t_{k})\\text{ from (I)}$\n",
    "<br/>\n",
    "$\\implies y_{k+1} = y_{k} + (t_{k+1} - t_{k})f(t_{k},y_{k})$\n",
    "<br/>\n",
    "$\\implies y_{k+1} = y_{k} + (t_{k+1} - t_{k})(1-t_{k}+y_{k})$\n",
    "<br/>\n",
    "$\\implies y_{k+1} = y_{k} + (t_{k+1} - t_{k})(1-t_{k}+(1+h)^{k}(y_{0} - t_{0}) + t_{k})$\n",
    "<br/>\n",
    "$\\implies y_{k+1} = y_{k} + (t_{k+1} - t_{k}) + (t_{k+1} - t_{k})(1+h)^{k}(y_{0} - t_{0})$\n",
    "<br/>\n",
    "$\\implies y_{k+1} =  (y_{k} - t_{k}) + (t_{k+1} - t_{k})(1+h)^{k}(y_{0} - t_{0}) + t_{k+1}$\n",
    "<br/>\n",
    "$\\text{Using the value of }(y_{k} - t_{k})\\text{ from (II)}$\n",
    "<br/>\n",
    "$\\implies y_{k+1} =  (1+h)^{k}(y_{0} - t_{0}) + (t_{k+1} - t_{k})(1+h)^{k}(y_{0} - t_{0}) + t_{k+1}$\n",
    "<br/>\n",
    "$\\implies y_{k+1} =  (1+h)^{k}(y_{0} - t_{0}) + h(1+h)^{k}(y_{0} - t_{0}) + t_{k+1}\\hspace{10mm}\\because t_{k+1} - t_{k} = h$\n",
    "<br/>\n",
    "$\\implies y_{k+1} =  (1+h)(1+h)^{k}(y_{0} - t_{0}) + t_{k+1}$\n",
    "<br/>\n",
    "$\\implies y_{k+1} =  (1+h)^{k+1}(y_{0} - t_{0}) + t_{k+1} \\leftrightarrow P(k+1)$\n",
    "<br/>\n",
    "$\\therefore \\text{P(k+1) also holds true} \\rightarrow \\text{P(k) holds true }\\forall k \\in S \\land S = \\mathbb{N}$\n",
    "<br/>\n",
    "$\\text{Hence proved.}$"
   ]
  },
  {
   "cell_type": "markdown",
   "metadata": {},
   "source": [
    "___________________________________________________________________________________________"
   ]
  },
  {
   "cell_type": "markdown",
   "metadata": {},
   "source": [
    "$\\text{(c) From (b), we have }y_{n} = (1+h)^{n}(y_{0} - t_{0}) + t_{n}$\n",
    "<br/>\n",
    "$\\text{Applying the limit }n \\rightarrow \\infty \\text{ on } y_{n}, \\text{we get}$\n",
    "<br/>\n",
    "$\\lim_{n \\rightarrow \\infty}y_{n} = \\lim_{n \\rightarrow \\infty}(1+h)^{n}(y_{0} - t_{0}) + t_{n}$\n",
    "<br/>\n",
    "$\\implies \\lim_{n \\rightarrow \\infty}y_{n} = \\lim_{n \\rightarrow \\infty}(1+\\frac{t-t_{0}}{n})^{n}(y_{0} - t_{0}) + t_{n}$\n",
    "<br/>\n",
    "$\\implies \\lim_{n \\rightarrow \\infty}y_{n} = e^{t-t_{0}}(y_{0} - t_{0}) + t$\n",
    "<br/>\n",
    "$\\because t_{n} = t \\text{ & } \\lim_{n \\rightarrow \\infty}(1+\\frac{t-t_{0}}{n})^{n} = e^{t-t_{0}}$\n",
    "<br/>\n",
    "$\\implies \\lim_{n \\rightarrow \\infty}y_{n} = e^{t-t_{0}}(y_{0} - t_{0}) + t = y$\n",
    "<br/>\n",
    "$\\therefore \\text{we obtain the analytic solution for y as calculated in (a).}$"
   ]
  },
  {
   "cell_type": "markdown",
   "metadata": {},
   "source": [
    "$\\text{Ashwin Singh}$\n",
    "<br/>\n",
    "$\\text{2017222}$"
   ]
  }
 ],
 "metadata": {
  "kernelspec": {
   "display_name": "Python 3",
   "language": "python",
   "name": "python3"
  },
  "language_info": {
   "codemirror_mode": {
    "name": "ipython",
    "version": 3
   },
   "file_extension": ".py",
   "mimetype": "text/x-python",
   "name": "python",
   "nbconvert_exporter": "python",
   "pygments_lexer": "ipython3",
   "version": "3.7.1"
  }
 },
 "nbformat": 4,
 "nbformat_minor": 2
}
